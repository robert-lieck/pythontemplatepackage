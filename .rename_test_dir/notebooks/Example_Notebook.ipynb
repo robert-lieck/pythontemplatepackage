{
 "cells": [
  {
   "cell_type": "markdown",
   "id": "3a58ddf9",
   "metadata": {},
   "source": [
    "# An example notebook..."
   ]
  },
  {
   "cell_type": "code",
   "execution_count": 1,
   "id": "90db7f59",
   "metadata": {},
   "outputs": [],
   "source": [
    "x = 2 ** 5"
   ]
  },
  {
   "cell_type": "markdown",
   "id": "15b712be",
   "metadata": {},
   "source": [
    "Some text..."
   ]
  },
  {
   "cell_type": "code",
   "execution_count": 2,
   "id": "858bba68",
   "metadata": {},
   "outputs": [
    {
     "name": "stdout",
     "output_type": "stream",
     "text": [
      "32\n"
     ]
    }
   ],
   "source": [
    "print(x)"
   ]
  }
 ],
 "metadata": {
  "kernelspec": {
   "display_name": "Python 3 (ipykernel)",
   "language": "python",
   "name": "python3"
  },
  "language_info": {
   "codemirror_mode": {
    "name": "ipython",
    "version": 3
   },
   "file_extension": ".py",
   "mimetype": "text/x-python",
   "name": "python",
   "nbconvert_exporter": "python",
   "pygments_lexer": "ipython3",
   "version": "3.9.7"
  },
  "toc": {
   "base_numbering": 1,
   "nav_menu": {},
   "number_sections": true,
   "sideBar": true,
   "skip_h1_title": false,
   "title_cell": "Table of Contents",
   "title_sidebar": "Contents",
   "toc_cell": false,
   "toc_position": {},
   "toc_section_display": true,
   "toc_window_display": false
  }
 },
 "nbformat": 4,
 "nbformat_minor": 5
}
